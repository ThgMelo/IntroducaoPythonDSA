{
 "cells": [
  {
   "cell_type": "markdown",
   "id": "279eb91c",
   "metadata": {},
   "source": [
    "# Calculadora\n",
    "\n",
    "Desafio para criar uma calculadora com as 4 operações básicas com auxílio do ChatGPT \n",
    "\n",
    "## Pseudocódigo\n",
    "\n",
    "### Prompt\n",
    "\n",
    "```\n",
    "Gere um pseudocódigo para uma calcula com as 4 operações básicas\n",
    "```\n",
    "\n",
    "###  Resultado\n",
    "```\n",
    "1. Iniciar a calculadora\n",
    "2. Solicitar ao usuário que insira o primeiro número (num1)\n",
    "3. Solicitar ao usuário que escolha a operação desejada (+, -, *, /)\n",
    "4. Solicitar ao usuário que insira o segundo número (num2)\n",
    "5. Se a operação for '+', então:\n",
    "     6. Resultado = num1 + num2\n",
    "7. Senão, se a operação for '-', então:\n",
    "     8. Resultado = num1 - num2\n",
    "9. Senão, se a operação for '*', então:\n",
    "     10. Resultado = num1 * num2\n",
    "11. Senão, se a operação for '/', então:\n",
    "     12. Se num2 for igual a 0, mostrar \"Erro: Divisão por zero\"\n",
    "     13. Senão:\n",
    "          14. Resultado = num1 / num2\n",
    "15. Mostrar o resultado\n",
    "16. Perguntar ao usuário se deseja realizar outra operação\n",
    "17. Se a resposta for sim, voltar para o passo 2\n",
    "18. Se a resposta for não, encerrar a calculadora\n",
    "```\n",
    "\n",
    "## Código Python\n",
    "\n",
    "### Prompt\n",
    "```\n",
    "transcreva para python\n",
    "```\n",
    "\n",
    "### Resultado"
   ]
  },
  {
   "cell_type": "code",
   "execution_count": null,
   "id": "c057234f",
   "metadata": {},
   "outputs": [
    {
     "name": "stdout",
     "output_type": "stream",
     "text": [
      "Digite o primeiro número: 5\n",
      "Digite a operação (+, -, *, /): -\n",
      "Digite o segundo número: 3\n",
      "Resultado: 2.0\n"
     ]
    }
   ],
   "source": [
    "while True:\n",
    "    try:\n",
    "        num1 = float(input(\"Digite o primeiro número: \"))\n",
    "        operacao = input(\"Digite a operação (+, -, *, /): \")\n",
    "        num2 = float(input(\"Digite o segundo número: \"))\n",
    "\n",
    "        if operacao == '+':\n",
    "            resultado = num1 + num2\n",
    "        elif operacao == '-':\n",
    "            resultado = num1 - num2\n",
    "        elif operacao == '*':\n",
    "            resultado = num1 * num2\n",
    "        elif operacao == '/':\n",
    "            if num2 == 0:\n",
    "                print(\"Erro: Divisão por zero\")\n",
    "                continue  # Volta ao início do loop\n",
    "            else:\n",
    "                resultado = num1 / num2\n",
    "        else:\n",
    "            print(\"Operação inválida\")\n",
    "            continue  # Volta ao início do loop\n",
    "\n",
    "        print(\"Resultado:\", resultado)\n",
    "\n",
    "        continuar = input(\"Deseja realizar outra operação? (S/N): \")\n",
    "        if continuar.lower() != 's':\n",
    "            break  # Sai do loop se a resposta não for 'S' ou 's'\n",
    "    except ValueError:\n",
    "        print(\"Entrada inválida. Certifique-se de digitar números e a operação corretamente.\")"
   ]
  },
  {
   "cell_type": "code",
   "execution_count": null,
   "id": "277a92ad",
   "metadata": {},
   "outputs": [],
   "source": []
  }
 ],
 "metadata": {
  "kernelspec": {
   "display_name": "Python 3 (ipykernel)",
   "language": "python",
   "name": "python3"
  },
  "language_info": {
   "codemirror_mode": {
    "name": "ipython",
    "version": 3
   },
   "file_extension": ".py",
   "mimetype": "text/x-python",
   "name": "python",
   "nbconvert_exporter": "python",
   "pygments_lexer": "ipython3",
   "version": "3.11.4"
  }
 },
 "nbformat": 4,
 "nbformat_minor": 5
}
