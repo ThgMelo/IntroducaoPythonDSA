{
 "cells": [
  {
   "cell_type": "markdown",
   "id": "3223a62e",
   "metadata": {},
   "source": [
    "# Strings e Indexação"
   ]
  },
  {
   "cell_type": "markdown",
   "id": "f93347d2",
   "metadata": {},
   "source": [
    "## Criando uma String"
   ]
  },
  {
   "cell_type": "raw",
   "id": "c2d59b2b",
   "metadata": {},
   "source": [
    "Para criar uma string em python você pode usar aspas simples ou duplas:"
   ]
  },
  {
   "cell_type": "code",
   "execution_count": 1,
   "id": "c52b3eb9",
   "metadata": {},
   "outputs": [
    {
     "data": {
      "text/plain": [
       "'Oi'"
      ]
     },
     "execution_count": 1,
     "metadata": {},
     "output_type": "execute_result"
    }
   ],
   "source": [
    "# Uma única palavra\n",
    "'Oi'"
   ]
  },
  {
   "cell_type": "code",
   "execution_count": 2,
   "id": "61696ff4",
   "metadata": {},
   "outputs": [
    {
     "data": {
      "text/plain": [
       "'Criando uma string em Python'"
      ]
     },
     "execution_count": 2,
     "metadata": {},
     "output_type": "execute_result"
    }
   ],
   "source": [
    "# Uma frase\n",
    "'Criando uma string em Python'"
   ]
  },
  {
   "cell_type": "code",
   "execution_count": 6,
   "id": "a07e1865",
   "metadata": {},
   "outputs": [
    {
     "data": {
      "text/plain": [
       "'Podemos usar aspas duplas ou simples para strings em python'"
      ]
     },
     "execution_count": 6,
     "metadata": {},
     "output_type": "execute_result"
    }
   ],
   "source": [
    "# Utilizando aspas duplas\n",
    "\"Podemos usar aspas duplas ou simples para strings em python\""
   ]
  },
  {
   "cell_type": "code",
   "execution_count": 7,
   "id": "21071212",
   "metadata": {},
   "outputs": [
    {
     "data": {
      "text/plain": [
       "\"Testando strings em 'Python'\""
      ]
     },
     "execution_count": 7,
     "metadata": {},
     "output_type": "execute_result"
    }
   ],
   "source": [
    "# Você pode combinar aspas duplas e simples\n",
    "\"Testando strings em 'Python'\""
   ]
  },
  {
   "cell_type": "markdown",
   "id": "d7425bb0",
   "metadata": {},
   "source": [
    "## Imprimindo uma String"
   ]
  },
  {
   "cell_type": "code",
   "execution_count": 5,
   "id": "5d987d39",
   "metadata": {},
   "outputs": [
    {
     "name": "stdout",
     "output_type": "stream",
     "text": [
      "Testando Strings em Python\n"
     ]
    }
   ],
   "source": [
    "print('Testando Strings em Python')"
   ]
  },
  {
   "cell_type": "code",
   "execution_count": 8,
   "id": "0441b1b0",
   "metadata": {},
   "outputs": [
    {
     "name": "stdout",
     "output_type": "stream",
     "text": [
      "Testando \n",
      "String \n",
      "em \n",
      "Python\n"
     ]
    }
   ],
   "source": [
    "print('Testando \\nString \\nem \\nPython')"
   ]
  },
  {
   "cell_type": "code",
   "execution_count": 9,
   "id": "4562dcc1",
   "metadata": {},
   "outputs": [
    {
     "name": "stdout",
     "output_type": "stream",
     "text": [
      "\n",
      "\n"
     ]
    }
   ],
   "source": [
    "print('\\n')"
   ]
  },
  {
   "cell_type": "markdown",
   "id": "69723be4",
   "metadata": {},
   "source": [
    "## Indexando Strings"
   ]
  },
  {
   "cell_type": "code",
   "execution_count": 11,
   "id": "a8bc2940",
   "metadata": {},
   "outputs": [],
   "source": [
    "# Atribuindo uma string\n",
    "s = 'Thiago Melo'"
   ]
  },
  {
   "cell_type": "code",
   "execution_count": 12,
   "id": "de6fa9b1",
   "metadata": {},
   "outputs": [
    {
     "name": "stdout",
     "output_type": "stream",
     "text": [
      "Thiago Melo\n"
     ]
    }
   ],
   "source": [
    "print(s)"
   ]
  },
  {
   "cell_type": "code",
   "execution_count": 13,
   "id": "22d11d20",
   "metadata": {},
   "outputs": [
    {
     "data": {
      "text/plain": [
       "'T'"
      ]
     },
     "execution_count": 13,
     "metadata": {},
     "output_type": "execute_result"
    }
   ],
   "source": [
    "# Primeiro elemento da string\n",
    "s[0]"
   ]
  },
  {
   "cell_type": "code",
   "execution_count": 14,
   "id": "82ab960e",
   "metadata": {},
   "outputs": [
    {
     "data": {
      "text/plain": [
       "'h'"
      ]
     },
     "execution_count": 14,
     "metadata": {},
     "output_type": "execute_result"
    }
   ],
   "source": [
    "s[1]"
   ]
  },
  {
   "cell_type": "code",
   "execution_count": 15,
   "id": "473e55c0",
   "metadata": {},
   "outputs": [
    {
     "data": {
      "text/plain": [
       "'i'"
      ]
     },
     "execution_count": 15,
     "metadata": {},
     "output_type": "execute_result"
    }
   ],
   "source": [
    "s[2]"
   ]
  },
  {
   "cell_type": "code",
   "execution_count": 16,
   "id": "f6fa4f5b",
   "metadata": {},
   "outputs": [
    {
     "data": {
      "text/plain": [
       "'a'"
      ]
     },
     "execution_count": 16,
     "metadata": {},
     "output_type": "execute_result"
    }
   ],
   "source": [
    "s[3]"
   ]
  },
  {
   "cell_type": "code",
   "execution_count": 17,
   "id": "3ae43db4",
   "metadata": {},
   "outputs": [
    {
     "data": {
      "text/plain": [
       "'g'"
      ]
     },
     "execution_count": 17,
     "metadata": {},
     "output_type": "execute_result"
    }
   ],
   "source": [
    "s[4]"
   ]
  },
  {
   "cell_type": "code",
   "execution_count": 18,
   "id": "30d0a6cb",
   "metadata": {},
   "outputs": [
    {
     "data": {
      "text/plain": [
       "'o'"
      ]
     },
     "execution_count": 18,
     "metadata": {},
     "output_type": "execute_result"
    }
   ],
   "source": [
    "s[5]"
   ]
  },
  {
   "cell_type": "code",
   "execution_count": null,
   "id": "0cf355d1",
   "metadata": {},
   "outputs": [],
   "source": []
  }
 ],
 "metadata": {
  "kernelspec": {
   "display_name": "Python 3 (ipykernel)",
   "language": "python",
   "name": "python3"
  },
  "language_info": {
   "codemirror_mode": {
    "name": "ipython",
    "version": 3
   },
   "file_extension": ".py",
   "mimetype": "text/x-python",
   "name": "python",
   "nbconvert_exporter": "python",
   "pygments_lexer": "ipython3",
   "version": "3.11.4"
  }
 },
 "nbformat": 4,
 "nbformat_minor": 5
}
