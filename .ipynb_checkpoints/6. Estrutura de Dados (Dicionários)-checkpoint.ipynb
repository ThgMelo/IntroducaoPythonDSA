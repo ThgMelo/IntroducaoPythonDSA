{
 "cells": [
  {
   "cell_type": "markdown",
   "id": "8be58f78",
   "metadata": {},
   "source": [
    "# Estrutura de Dados (Dicionários)"
   ]
  },
  {
   "cell_type": "markdown",
   "id": "3d053e13",
   "metadata": {},
   "source": [
    "Trabalhando com Dicionários"
   ]
  },
  {
   "cell_type": "code",
   "execution_count": 1,
   "id": "0c99925f",
   "metadata": {},
   "outputs": [],
   "source": [
    "# Isso é uma lista\n",
    "estudantes_lst = [\"Pedro\", 24, \"Ana\", 22, \"Ronaldo\", 26, \"Janaina\", 25]"
   ]
  },
  {
   "cell_type": "code",
   "execution_count": 2,
   "id": "351a9fbd",
   "metadata": {},
   "outputs": [
    {
     "data": {
      "text/plain": [
       "['Pedro', 24, 'Ana', 22, 'Ronaldo', 26, 'Janaina', 25]"
      ]
     },
     "execution_count": 2,
     "metadata": {},
     "output_type": "execute_result"
    }
   ],
   "source": [
    "estudantes_lst"
   ]
  },
  {
   "cell_type": "code",
   "execution_count": 3,
   "id": "e390759a",
   "metadata": {},
   "outputs": [],
   "source": [
    "# Isso é um dicionário\n",
    "estudantes_dict ={\"Pedro\": 24, \"Ana\": 22, \"Ronaldo\": 26, \"Janaina\": 25}"
   ]
  },
  {
   "cell_type": "code",
   "execution_count": 4,
   "id": "ef56f817",
   "metadata": {},
   "outputs": [
    {
     "data": {
      "text/plain": [
       "{'Pedro': 24, 'Ana': 22, 'Ronaldo': 26, 'Janaina': 25}"
      ]
     },
     "execution_count": 4,
     "metadata": {},
     "output_type": "execute_result"
    }
   ],
   "source": [
    "estudantes_dict"
   ]
  },
  {
   "cell_type": "code",
   "execution_count": 5,
   "id": "3ac2e277",
   "metadata": {},
   "outputs": [
    {
     "data": {
      "text/plain": [
       "24"
      ]
     },
     "execution_count": 5,
     "metadata": {},
     "output_type": "execute_result"
    }
   ],
   "source": [
    "estudantes_dict[\"Pedro\"]"
   ]
  },
  {
   "cell_type": "code",
   "execution_count": 6,
   "id": "c0e5c83c",
   "metadata": {},
   "outputs": [],
   "source": [
    "estudantes_dict[\"Marcelo\"] = 23"
   ]
  },
  {
   "cell_type": "code",
   "execution_count": 7,
   "id": "605a1d56",
   "metadata": {},
   "outputs": [
    {
     "data": {
      "text/plain": [
       "23"
      ]
     },
     "execution_count": 7,
     "metadata": {},
     "output_type": "execute_result"
    }
   ],
   "source": [
    "estudantes_dict[\"Marcelo\"]"
   ]
  },
  {
   "cell_type": "code",
   "execution_count": 8,
   "id": "9ac19ec5",
   "metadata": {},
   "outputs": [],
   "source": [
    "estudantes_dict.clear()"
   ]
  },
  {
   "cell_type": "code",
   "execution_count": 9,
   "id": "3d6a489c",
   "metadata": {},
   "outputs": [
    {
     "data": {
      "text/plain": [
       "{}"
      ]
     },
     "execution_count": 9,
     "metadata": {},
     "output_type": "execute_result"
    }
   ],
   "source": [
    "estudantes_dict"
   ]
  },
  {
   "cell_type": "code",
   "execution_count": 10,
   "id": "7858af42",
   "metadata": {},
   "outputs": [],
   "source": [
    "del estudantes_dict"
   ]
  },
  {
   "cell_type": "code",
   "execution_count": 12,
   "id": "d5cce992",
   "metadata": {},
   "outputs": [
    {
     "ename": "NameError",
     "evalue": "name 'estudantes_dict' is not defined",
     "output_type": "error",
     "traceback": [
      "\u001b[1;31m---------------------------------------------------------------------------\u001b[0m",
      "\u001b[1;31mNameError\u001b[0m                                 Traceback (most recent call last)",
      "Cell \u001b[1;32mIn[12], line 1\u001b[0m\n\u001b[1;32m----> 1\u001b[0m estudantes_dict\n",
      "\u001b[1;31mNameError\u001b[0m: name 'estudantes_dict' is not defined"
     ]
    }
   ],
   "source": [
    "estudantes_dict"
   ]
  },
  {
   "cell_type": "code",
   "execution_count": 13,
   "id": "4c62e564",
   "metadata": {},
   "outputs": [],
   "source": [
    "estudantes = {\"Pedro\": 24, \"Ana\": 22, \"Ronaldo\": 26, \"Janaina\": 25}"
   ]
  },
  {
   "cell_type": "code",
   "execution_count": 14,
   "id": "166a6750",
   "metadata": {},
   "outputs": [
    {
     "data": {
      "text/plain": [
       "{'Pedro': 24, 'Ana': 22, 'Ronaldo': 26, 'Janaina': 25}"
      ]
     },
     "execution_count": 14,
     "metadata": {},
     "output_type": "execute_result"
    }
   ],
   "source": [
    "estudantes"
   ]
  },
  {
   "cell_type": "code",
   "execution_count": 15,
   "id": "6c08312a",
   "metadata": {},
   "outputs": [
    {
     "data": {
      "text/plain": [
       "dict"
      ]
     },
     "execution_count": 15,
     "metadata": {},
     "output_type": "execute_result"
    }
   ],
   "source": [
    "type(estudantes)"
   ]
  },
  {
   "cell_type": "code",
   "execution_count": 16,
   "id": "79abf67e",
   "metadata": {},
   "outputs": [
    {
     "data": {
      "text/plain": [
       "4"
      ]
     },
     "execution_count": 16,
     "metadata": {},
     "output_type": "execute_result"
    }
   ],
   "source": [
    "len(estudantes)"
   ]
  },
  {
   "cell_type": "code",
   "execution_count": 17,
   "id": "35c64901",
   "metadata": {},
   "outputs": [
    {
     "data": {
      "text/plain": [
       "dict_keys(['Pedro', 'Ana', 'Ronaldo', 'Janaina'])"
      ]
     },
     "execution_count": 17,
     "metadata": {},
     "output_type": "execute_result"
    }
   ],
   "source": [
    "estudantes.keys()"
   ]
  },
  {
   "cell_type": "code",
   "execution_count": 18,
   "id": "6a26cdbc",
   "metadata": {},
   "outputs": [
    {
     "data": {
      "text/plain": [
       "dict_values([24, 22, 26, 25])"
      ]
     },
     "execution_count": 18,
     "metadata": {},
     "output_type": "execute_result"
    }
   ],
   "source": [
    "estudantes.values()"
   ]
  },
  {
   "cell_type": "code",
   "execution_count": 19,
   "id": "7d3fc24b",
   "metadata": {},
   "outputs": [
    {
     "data": {
      "text/plain": [
       "dict_items([('Pedro', 24), ('Ana', 22), ('Ronaldo', 26), ('Janaina', 25)])"
      ]
     },
     "execution_count": 19,
     "metadata": {},
     "output_type": "execute_result"
    }
   ],
   "source": [
    "estudantes.items()"
   ]
  },
  {
   "cell_type": "code",
   "execution_count": 20,
   "id": "f63376bf",
   "metadata": {},
   "outputs": [],
   "source": [
    "estudantes2 = {\"Camila\": 27, \"Adriana\": 28, \"Roberta\": 26}"
   ]
  },
  {
   "cell_type": "code",
   "execution_count": 21,
   "id": "0fc50341",
   "metadata": {},
   "outputs": [
    {
     "data": {
      "text/plain": [
       "{'Camila': 27, 'Adriana': 28, 'Roberta': 26}"
      ]
     },
     "execution_count": 21,
     "metadata": {},
     "output_type": "execute_result"
    }
   ],
   "source": [
    "estudantes2"
   ]
  },
  {
   "cell_type": "code",
   "execution_count": 23,
   "id": "1e1be193",
   "metadata": {},
   "outputs": [],
   "source": [
    "estudantes.update(estudantes2)"
   ]
  },
  {
   "cell_type": "code",
   "execution_count": 24,
   "id": "335faa3e",
   "metadata": {},
   "outputs": [
    {
     "data": {
      "text/plain": [
       "{'Pedro': 24,\n",
       " 'Ana': 22,\n",
       " 'Ronaldo': 26,\n",
       " 'Janaina': 25,\n",
       " 'Camila': 27,\n",
       " 'Adriana': 28,\n",
       " 'Roberta': 26}"
      ]
     },
     "execution_count": 24,
     "metadata": {},
     "output_type": "execute_result"
    }
   ],
   "source": [
    "estudantes"
   ]
  },
  {
   "cell_type": "code",
   "execution_count": 25,
   "id": "cf706afe",
   "metadata": {},
   "outputs": [],
   "source": [
    "dic1 = {}"
   ]
  },
  {
   "cell_type": "code",
   "execution_count": 26,
   "id": "8a30f384",
   "metadata": {},
   "outputs": [
    {
     "data": {
      "text/plain": [
       "{}"
      ]
     },
     "execution_count": 26,
     "metadata": {},
     "output_type": "execute_result"
    }
   ],
   "source": [
    "dic1"
   ]
  },
  {
   "cell_type": "code",
   "execution_count": 27,
   "id": "61ce6467",
   "metadata": {},
   "outputs": [],
   "source": [
    "dic1[\"chave_um\"] = 2"
   ]
  },
  {
   "cell_type": "code",
   "execution_count": 28,
   "id": "40043f4f",
   "metadata": {},
   "outputs": [
    {
     "name": "stdout",
     "output_type": "stream",
     "text": [
      "{'chave_um': 2}\n"
     ]
    }
   ],
   "source": [
    "print(dic1)"
   ]
  },
  {
   "cell_type": "code",
   "execution_count": 29,
   "id": "aa01a524",
   "metadata": {},
   "outputs": [],
   "source": [
    "dic1[10] = 5"
   ]
  },
  {
   "cell_type": "code",
   "execution_count": 30,
   "id": "bf2e93d2",
   "metadata": {},
   "outputs": [
    {
     "data": {
      "text/plain": [
       "{'chave_um': 2, 10: 5}"
      ]
     },
     "execution_count": 30,
     "metadata": {},
     "output_type": "execute_result"
    }
   ],
   "source": [
    "dic1"
   ]
  },
  {
   "cell_type": "code",
   "execution_count": 31,
   "id": "ffd129bb",
   "metadata": {},
   "outputs": [],
   "source": [
    "dic1[9.13] = \"Python\""
   ]
  },
  {
   "cell_type": "code",
   "execution_count": 32,
   "id": "a0854e6b",
   "metadata": {},
   "outputs": [
    {
     "data": {
      "text/plain": [
       "{'chave_um': 2, 10: 5, 9.13: 'Python'}"
      ]
     },
     "execution_count": 32,
     "metadata": {},
     "output_type": "execute_result"
    }
   ],
   "source": [
    "dic1"
   ]
  },
  {
   "cell_type": "code",
   "execution_count": 33,
   "id": "2ff30b62",
   "metadata": {},
   "outputs": [],
   "source": [
    "dic1[\"teste\"] = 5"
   ]
  },
  {
   "cell_type": "code",
   "execution_count": 35,
   "id": "6dbaf97e",
   "metadata": {},
   "outputs": [
    {
     "data": {
      "text/plain": [
       "{'chave_um': 2, 10: 5, 9.13: 'Python', 'teste': 5}"
      ]
     },
     "execution_count": 35,
     "metadata": {},
     "output_type": "execute_result"
    }
   ],
   "source": [
    "dic1"
   ]
  },
  {
   "cell_type": "code",
   "execution_count": 36,
   "id": "b11feccf",
   "metadata": {},
   "outputs": [],
   "source": [
    "dic1 = {}"
   ]
  },
  {
   "cell_type": "code",
   "execution_count": 37,
   "id": "952373a3",
   "metadata": {},
   "outputs": [
    {
     "data": {
      "text/plain": [
       "{}"
      ]
     },
     "execution_count": 37,
     "metadata": {},
     "output_type": "execute_result"
    }
   ],
   "source": [
    "dic1"
   ]
  },
  {
   "cell_type": "code",
   "execution_count": 38,
   "id": "cb28ab8d",
   "metadata": {},
   "outputs": [],
   "source": [
    "dic1[\"teste\"] = 10"
   ]
  },
  {
   "cell_type": "code",
   "execution_count": 39,
   "id": "7baacfdf",
   "metadata": {},
   "outputs": [],
   "source": [
    "dic1[\"key\"] = \"teste\""
   ]
  },
  {
   "cell_type": "code",
   "execution_count": 40,
   "id": "d809ff49",
   "metadata": {},
   "outputs": [
    {
     "data": {
      "text/plain": [
       "{'teste': 10, 'key': 'teste'}"
      ]
     },
     "execution_count": 40,
     "metadata": {},
     "output_type": "execute_result"
    }
   ],
   "source": [
    "# Atenção, pois chave e valor podem ser igual, mas representam coisas diferentes\n",
    "dic1"
   ]
  },
  {
   "cell_type": "code",
   "execution_count": 41,
   "id": "a6f1630a",
   "metadata": {},
   "outputs": [],
   "source": [
    "dict2 = {}"
   ]
  },
  {
   "cell_type": "code",
   "execution_count": 42,
   "id": "03501328",
   "metadata": {},
   "outputs": [],
   "source": [
    "dict2[\"key1\"] = \"Data Science\""
   ]
  },
  {
   "cell_type": "code",
   "execution_count": 43,
   "id": "49bd4400",
   "metadata": {},
   "outputs": [],
   "source": [
    "dict2[\"key2\"] = 10"
   ]
  },
  {
   "cell_type": "code",
   "execution_count": 44,
   "id": "ffd6c274",
   "metadata": {},
   "outputs": [],
   "source": [
    "dict2[\"key3\"] = 100"
   ]
  },
  {
   "cell_type": "code",
   "execution_count": 45,
   "id": "2cc85097",
   "metadata": {},
   "outputs": [
    {
     "data": {
      "text/plain": [
       "{'key1': 'Data Science', 'key2': 10, 'key3': 100}"
      ]
     },
     "execution_count": 45,
     "metadata": {},
     "output_type": "execute_result"
    }
   ],
   "source": [
    "dict2"
   ]
  },
  {
   "cell_type": "code",
   "execution_count": 46,
   "id": "8741b0ab",
   "metadata": {},
   "outputs": [],
   "source": [
    "a = dict2[\"key1\"]"
   ]
  },
  {
   "cell_type": "code",
   "execution_count": 47,
   "id": "3362fe54",
   "metadata": {},
   "outputs": [],
   "source": [
    "b = dict2[\"key2\"]"
   ]
  },
  {
   "cell_type": "code",
   "execution_count": 48,
   "id": "3b2c5580",
   "metadata": {},
   "outputs": [],
   "source": [
    "c = dict2[\"key3\"]"
   ]
  },
  {
   "cell_type": "code",
   "execution_count": 49,
   "id": "97e9e3d9",
   "metadata": {},
   "outputs": [
    {
     "data": {
      "text/plain": [
       "('Data Science', 10, 100)"
      ]
     },
     "execution_count": 49,
     "metadata": {},
     "output_type": "execute_result"
    }
   ],
   "source": [
    "a, b, c"
   ]
  },
  {
   "cell_type": "code",
   "execution_count": 50,
   "id": "d21c1c8c",
   "metadata": {},
   "outputs": [],
   "source": [
    "# Dicionário de listas\n",
    "dict3 = {\"chave1\": 1230, \"chave2\": [22, 453, 73.4], \"chave3\": [\"picanha\", \"fraldinha\", \"alcatra\"]}"
   ]
  },
  {
   "cell_type": "code",
   "execution_count": 51,
   "id": "f5ee366c",
   "metadata": {},
   "outputs": [
    {
     "data": {
      "text/plain": [
       "{'chave1': 1230,\n",
       " 'chave2': [22, 453, 73.4],\n",
       " 'chave3': ['picanha', 'fraldinha', 'alcatra']}"
      ]
     },
     "execution_count": 51,
     "metadata": {},
     "output_type": "execute_result"
    }
   ],
   "source": [
    "dict3"
   ]
  },
  {
   "cell_type": "code",
   "execution_count": 52,
   "id": "0f29212c",
   "metadata": {},
   "outputs": [
    {
     "data": {
      "text/plain": [
       "'PICANHA'"
      ]
     },
     "execution_count": 52,
     "metadata": {},
     "output_type": "execute_result"
    }
   ],
   "source": [
    "# Acessando um item da lista, dentro do dicionário\n",
    "dict3['chave3'][0].upper()"
   ]
  },
  {
   "cell_type": "code",
   "execution_count": 53,
   "id": "14a26b0a",
   "metadata": {},
   "outputs": [],
   "source": [
    "# Operações com itens da lista, dentro do dicionário\n",
    "var1 = dict3['chave2'][0]-2"
   ]
  },
  {
   "cell_type": "code",
   "execution_count": 54,
   "id": "496eb93a",
   "metadata": {},
   "outputs": [
    {
     "data": {
      "text/plain": [
       "20"
      ]
     },
     "execution_count": 54,
     "metadata": {},
     "output_type": "execute_result"
    }
   ],
   "source": [
    "var1"
   ]
  },
  {
   "cell_type": "code",
   "execution_count": 55,
   "id": "1cf3c252",
   "metadata": {},
   "outputs": [],
   "source": [
    "# Duas operações no mesmo comando, para atualizar um item dentro da lista\n",
    "dict3['chave2'][0] -= 2"
   ]
  },
  {
   "cell_type": "code",
   "execution_count": 56,
   "id": "ec231450",
   "metadata": {},
   "outputs": [
    {
     "data": {
      "text/plain": [
       "{'chave1': 1230,\n",
       " 'chave2': [20, 453, 73.4],\n",
       " 'chave3': ['picanha', 'fraldinha', 'alcatra']}"
      ]
     },
     "execution_count": 56,
     "metadata": {},
     "output_type": "execute_result"
    }
   ],
   "source": [
    "dict3"
   ]
  },
  {
   "cell_type": "markdown",
   "id": "a3697b30",
   "metadata": {},
   "source": [
    "## Criando Dicionários Aninhados"
   ]
  },
  {
   "cell_type": "code",
   "execution_count": 57,
   "id": "19b17596",
   "metadata": {},
   "outputs": [],
   "source": [
    "dict_aninhado = {'key1': {'key2_aninhada': {'key3_aninhada': 'Dict aninhado em Python'}}}"
   ]
  },
  {
   "cell_type": "code",
   "execution_count": 58,
   "id": "adde0e0e",
   "metadata": {},
   "outputs": [
    {
     "data": {
      "text/plain": [
       "{'key1': {'key2_aninhada': {'key3_aninhada': 'Dict aninhado em Python'}}}"
      ]
     },
     "execution_count": 58,
     "metadata": {},
     "output_type": "execute_result"
    }
   ],
   "source": [
    "dict_aninhado"
   ]
  },
  {
   "cell_type": "code",
   "execution_count": 59,
   "id": "3fd678e2",
   "metadata": {},
   "outputs": [
    {
     "data": {
      "text/plain": [
       "'Dict aninhado em Python'"
      ]
     },
     "execution_count": 59,
     "metadata": {},
     "output_type": "execute_result"
    }
   ],
   "source": [
    "dict_aninhado['key1']['key2_aninhada']['key3_aninhada']"
   ]
  },
  {
   "cell_type": "code",
   "execution_count": null,
   "id": "08489e42",
   "metadata": {},
   "outputs": [],
   "source": []
  }
 ],
 "metadata": {
  "kernelspec": {
   "display_name": "Python 3 (ipykernel)",
   "language": "python",
   "name": "python3"
  },
  "language_info": {
   "codemirror_mode": {
    "name": "ipython",
    "version": 3
   },
   "file_extension": ".py",
   "mimetype": "text/x-python",
   "name": "python",
   "nbconvert_exporter": "python",
   "pygments_lexer": "ipython3",
   "version": "3.11.4"
  }
 },
 "nbformat": 4,
 "nbformat_minor": 5
}
