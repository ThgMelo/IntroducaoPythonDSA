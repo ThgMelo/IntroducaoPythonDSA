{
 "cells": [
  {
   "cell_type": "markdown",
   "id": "20196acd",
   "metadata": {},
   "source": [
    "# Funções"
   ]
  },
  {
   "cell_type": "code",
   "execution_count": 1,
   "id": "3b2e3679",
   "metadata": {},
   "outputs": [
    {
     "name": "stdout",
     "output_type": "stream",
     "text": [
      "Hello World\n"
     ]
    }
   ],
   "source": [
    "print('Hello World')"
   ]
  },
  {
   "cell_type": "code",
   "execution_count": 2,
   "id": "767678ff",
   "metadata": {},
   "outputs": [],
   "source": [
    "def primeiraFunc():\n",
    "    print('Hello World')"
   ]
  },
  {
   "cell_type": "code",
   "execution_count": 3,
   "id": "2adf5ba2",
   "metadata": {},
   "outputs": [
    {
     "name": "stdout",
     "output_type": "stream",
     "text": [
      "Hello World\n"
     ]
    }
   ],
   "source": [
    "primeiraFunc()"
   ]
  },
  {
   "cell_type": "code",
   "execution_count": 8,
   "id": "ad8284a2",
   "metadata": {},
   "outputs": [],
   "source": [
    "def primeiraFunc():\n",
    "    nome = 'Bob'\n",
    "    print(f\"Hello {nome}\")"
   ]
  },
  {
   "cell_type": "code",
   "execution_count": 9,
   "id": "dc0e554c",
   "metadata": {},
   "outputs": [
    {
     "name": "stdout",
     "output_type": "stream",
     "text": [
      "Hello Bob\n"
     ]
    }
   ],
   "source": [
    "primeiraFunc()"
   ]
  },
  {
   "cell_type": "code",
   "execution_count": 10,
   "id": "39ba37cd",
   "metadata": {},
   "outputs": [],
   "source": [
    "# Função com parâmetro\n",
    "def segundaFunc(nome):\n",
    "    print(f'Hello {nome}')"
   ]
  },
  {
   "cell_type": "code",
   "execution_count": 11,
   "id": "459465c8",
   "metadata": {},
   "outputs": [
    {
     "name": "stdout",
     "output_type": "stream",
     "text": [
      "Hello Thiago\n"
     ]
    }
   ],
   "source": [
    "segundaFunc('Thiago')"
   ]
  },
  {
   "cell_type": "code",
   "execution_count": 12,
   "id": "d134aae9",
   "metadata": {},
   "outputs": [],
   "source": [
    "# Função para imprimir números\n",
    "def imprimeNumeros():\n",
    "    for i in range(0, 5):\n",
    "        print(f'Número {i}')"
   ]
  },
  {
   "cell_type": "code",
   "execution_count": 13,
   "id": "ae0e5d21",
   "metadata": {},
   "outputs": [
    {
     "name": "stdout",
     "output_type": "stream",
     "text": [
      "Número 0\n",
      "Número 1\n",
      "Número 2\n",
      "Número 3\n",
      "Número 4\n"
     ]
    }
   ],
   "source": [
    "imprimeNumeros()"
   ]
  },
  {
   "cell_type": "code",
   "execution_count": 14,
   "id": "c73705f0",
   "metadata": {},
   "outputs": [],
   "source": [
    "def addNum(firstnum, secondnum):\n",
    "    print(f'Soma: {firstnum + secondnum}')"
   ]
  },
  {
   "cell_type": "code",
   "execution_count": 15,
   "id": "b474d6e2",
   "metadata": {},
   "outputs": [
    {
     "name": "stdout",
     "output_type": "stream",
     "text": [
      "Soma: 11\n"
     ]
    }
   ],
   "source": [
    "addNum(4 ,7)"
   ]
  },
  {
   "cell_type": "code",
   "execution_count": 22,
   "id": "8b31b241",
   "metadata": {},
   "outputs": [],
   "source": [
    "# Função com número variável de argumentos\n",
    "def printVarInfo(arg1, *vartuple):\n",
    "    # Imprimindo o valor do primeiro argumento\n",
    "    print(f'O parâmetro passado foi: {arg1}')\n",
    "    \n",
    "    # Imprimento o valor do segundo argumento\n",
    "    for item in vartuple:\n",
    "        print(f'O Parâmetro passado foi: {item}')\n",
    "    return;"
   ]
  },
  {
   "cell_type": "code",
   "execution_count": 23,
   "id": "f3afa1c7",
   "metadata": {},
   "outputs": [
    {
     "name": "stdout",
     "output_type": "stream",
     "text": [
      "O parâmetro passado foi: 10\n"
     ]
    }
   ],
   "source": [
    "printVarInfo(10)"
   ]
  },
  {
   "cell_type": "code",
   "execution_count": 24,
   "id": "80664abf",
   "metadata": {},
   "outputs": [
    {
     "name": "stdout",
     "output_type": "stream",
     "text": [
      "O parâmetro passado foi: Chocolate\n",
      "O Parâmetro passado foi: Morango\n"
     ]
    }
   ],
   "source": [
    "printVarInfo('Chocolate', 'Morango')"
   ]
  },
  {
   "cell_type": "code",
   "execution_count": 25,
   "id": "8f304b95",
   "metadata": {},
   "outputs": [
    {
     "name": "stdout",
     "output_type": "stream",
     "text": [
      "O parâmetro passado foi: Data\n",
      "O Parâmetro passado foi: Science\n",
      "O Parâmetro passado foi: Academy\n"
     ]
    }
   ],
   "source": [
    "printVarInfo('Data', 'Science', 'Academy')"
   ]
  },
  {
   "cell_type": "code",
   "execution_count": null,
   "id": "6fa435f1",
   "metadata": {},
   "outputs": [],
   "source": []
  }
 ],
 "metadata": {
  "kernelspec": {
   "display_name": "Python 3 (ipykernel)",
   "language": "python",
   "name": "python3"
  },
  "language_info": {
   "codemirror_mode": {
    "name": "ipython",
    "version": 3
   },
   "file_extension": ".py",
   "mimetype": "text/x-python",
   "name": "python",
   "nbconvert_exporter": "python",
   "pygments_lexer": "ipython3",
   "version": "3.11.4"
  }
 },
 "nbformat": 4,
 "nbformat_minor": 5
}
