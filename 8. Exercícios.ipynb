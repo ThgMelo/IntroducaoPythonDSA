{
 "cells": [
  {
   "cell_type": "markdown",
   "id": "bb47d1c5",
   "metadata": {},
   "source": [
    "# Lista de Exercícios"
   ]
  },
  {
   "cell_type": "markdown",
   "id": "18dc2c0b",
   "metadata": {},
   "source": [
    "## Exercício 1\n",
    "Imprima na tela os números de 1 a 10. Use uma lista para armazenar os números."
   ]
  },
  {
   "cell_type": "code",
   "execution_count": 3,
   "id": "04dc4da4",
   "metadata": {},
   "outputs": [
    {
     "data": {
      "text/plain": [
       "[1, 2, 3, 4, 5, 6, 7, 8, 9, 10]"
      ]
     },
     "execution_count": 3,
     "metadata": {},
     "output_type": "execute_result"
    }
   ],
   "source": [
    "lista1 = list(range(1,11))\n",
    "lista1"
   ]
  },
  {
   "cell_type": "markdown",
   "id": "df354a4c",
   "metadata": {},
   "source": [
    "## Exercício 2\n",
    "Crie uma lista de 5 objetos e imprima na tela"
   ]
  },
  {
   "cell_type": "code",
   "execution_count": 4,
   "id": "99911547",
   "metadata": {},
   "outputs": [
    {
     "data": {
      "text/plain": [
       "['Flamengo', 'Vasco', 'Fluminense', 'Botafogo', 'Volta Redonda']"
      ]
     },
     "execution_count": 4,
     "metadata": {},
     "output_type": "execute_result"
    }
   ],
   "source": [
    "lista2 = ['Flamengo', 'Vasco', 'Fluminense', 'Botafogo', 'Volta Redonda']\n",
    "lista2"
   ]
  },
  {
   "cell_type": "markdown",
   "id": "484a2279",
   "metadata": {},
   "source": [
    "## Exercício 3\n",
    "Crie duas strings e concatene as duas em uma terceira string"
   ]
  },
  {
   "cell_type": "code",
   "execution_count": 5,
   "id": "458d77a7",
   "metadata": {},
   "outputs": [
    {
     "name": "stdout",
     "output_type": "stream",
     "text": [
      "Thiago Melo\n"
     ]
    }
   ],
   "source": [
    "s1 = \"Thiago \"\n",
    "s2 = \"Melo\"\n",
    "s3 = s1 + s2\n",
    "\n",
    "print(s3)"
   ]
  },
  {
   "cell_type": "markdown",
   "id": "33dd9986",
   "metadata": {},
   "source": [
    "## Exercício 4\n",
    "Crie uma tupla com os seguintes elementos: 1, 2, 2, 3, 4, 4, 4, 5 e depois utilize a função count do  objeto tupla para verificar quantas vezes o número 4 aparece na tupla"
   ]
  },
  {
   "cell_type": "code",
   "execution_count": 7,
   "id": "5178a1d8",
   "metadata": {},
   "outputs": [
    {
     "name": "stdout",
     "output_type": "stream",
     "text": [
      "3\n"
     ]
    }
   ],
   "source": [
    "tupla = (1, 2, 2, 3, 4, 4, 4, 5)\n",
    "print(tupla.count(4))"
   ]
  },
  {
   "cell_type": "markdown",
   "id": "96f5fcf5",
   "metadata": {},
   "source": [
    "## Exercício 5\n",
    "Crie um dicionário vazio e imprima na tela"
   ]
  },
  {
   "cell_type": "code",
   "execution_count": 8,
   "id": "b9df3b4d",
   "metadata": {},
   "outputs": [
    {
     "name": "stdout",
     "output_type": "stream",
     "text": [
      "{}\n"
     ]
    }
   ],
   "source": [
    "dict = {}\n",
    "print(dict)"
   ]
  },
  {
   "cell_type": "markdown",
   "id": "dfba31c3",
   "metadata": {},
   "source": [
    "## Exercício 6\n",
    "Crie um dicionário com 3 chaves e 3 valores e imprima na tela"
   ]
  },
  {
   "cell_type": "code",
   "execution_count": 9,
   "id": "1aa6a8ae",
   "metadata": {},
   "outputs": [
    {
     "name": "stdout",
     "output_type": "stream",
     "text": [
      "{'Thiago': 27, 'Duda': 24, 'Mario': 44}\n"
     ]
    }
   ],
   "source": [
    "dict2 = {\"Thiago\": 27, \"Duda\": 24, \"Mario\": 44}\n",
    "print(dict2)"
   ]
  },
  {
   "cell_type": "markdown",
   "id": "57cb4ba5",
   "metadata": {},
   "source": [
    "## Exercício 7\n",
    "Adicione mais um elemento ao dicionário criado no exercício anterior e imprima na tela"
   ]
  },
  {
   "cell_type": "code",
   "execution_count": 10,
   "id": "87b70c0e",
   "metadata": {},
   "outputs": [
    {
     "name": "stdout",
     "output_type": "stream",
     "text": [
      "{'Thiago': 27, 'Duda': 24, 'Mario': 44, 'Luciane': 45}\n"
     ]
    }
   ],
   "source": [
    "dict2[\"Luciane\"] = 45\n",
    "print(dict2)"
   ]
  },
  {
   "cell_type": "markdown",
   "id": "591928c4",
   "metadata": {},
   "source": [
    "## Exercício 8\n",
    "Crie um dicionário com 3 chaves e 3 valores.\n",
    "Um dos valores deve ser uma lista de 2 elementos numéricos. \n",
    "Imprima o dicionário na tela."
   ]
  },
  {
   "cell_type": "code",
   "execution_count": 11,
   "id": "e0396dd3",
   "metadata": {},
   "outputs": [
    {
     "name": "stdout",
     "output_type": "stream",
     "text": [
      "{'FAM': 25, 'LHC': 10, 'A3P': [6.5, 12]}\n"
     ]
    }
   ],
   "source": [
    "dict3 = {\"FAM\": 25, \"LHC\": 10, \"A3P\": [6.5, 12]}\n",
    "print(dict3)"
   ]
  },
  {
   "cell_type": "markdown",
   "id": "91b5d6d0",
   "metadata": {},
   "source": [
    "## Exercício 9\n",
    "Crie uma lista de 4 elementos. O primeiro elemento deve ser uma string, o segundo uma tupla de 2 elementos, o terceiro um dicionário com 2 chaves e 2 valores e o quarto elemento um valor do tipo float.\n",
    "Imprima a lista."
   ]
  },
  {
   "cell_type": "code",
   "execution_count": 12,
   "id": "d5653435",
   "metadata": {},
   "outputs": [
    {
     "name": "stdout",
     "output_type": "stream",
     "text": [
      "['Thiago', ('FAM', 'LHC'), {'Maria': 'Administradora', 'Thiago': 'Engenheiro'}, 9.5]\n"
     ]
    }
   ],
   "source": [
    "lista = [\"Thiago\", (\"FAM\", \"LHC\"), {\"Maria\": \"Administradora\", \"Thiago\": \"Engenheiro\"}, 9.5 ]\n",
    "print(lista)"
   ]
  },
  {
   "cell_type": "markdown",
   "id": "30ccca8f",
   "metadata": {},
   "source": [
    "## Exercício 10\n",
    "Considere a string abaixo. Imprima na tela apenas os caracteres da posição 0 a 18.     \n",
    "`frase = 'Cientista de Dados é o profissional mais sexy do século XXI'`"
   ]
  },
  {
   "cell_type": "code",
   "execution_count": 15,
   "id": "eb168aeb",
   "metadata": {},
   "outputs": [
    {
     "name": "stdout",
     "output_type": "stream",
     "text": [
      "Cientista de Dados\n"
     ]
    }
   ],
   "source": [
    "frase = 'Cientista de Dados é o profissional mais sexy do século XXI'\n",
    "print(frase[:18])"
   ]
  }
 ],
 "metadata": {
  "kernelspec": {
   "display_name": "Python 3 (ipykernel)",
   "language": "python",
   "name": "python3"
  },
  "language_info": {
   "codemirror_mode": {
    "name": "ipython",
    "version": 3
   },
   "file_extension": ".py",
   "mimetype": "text/x-python",
   "name": "python",
   "nbconvert_exporter": "python",
   "pygments_lexer": "ipython3",
   "version": "3.11.4"
  }
 },
 "nbformat": 4,
 "nbformat_minor": 5
}
