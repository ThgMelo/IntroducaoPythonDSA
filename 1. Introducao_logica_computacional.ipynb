{
 "cells": [
  {
   "cell_type": "markdown",
   "id": "279eb91c",
   "metadata": {},
   "source": [
    "# Introdução à lógica computacional\n",
    "\n",
    "## Calculadora\n",
    "* Desafio: Gerar uma calculadora que realize as 4 operações básicas\n",
    "\n",
    "### Pseudocódigo\n",
    "\n",
    "```\n",
    "1. Iniciar a calculadora\n",
    "2. Solicitar ao usuário que insira o primeiro número (num1)\n",
    "3. Solicitar ao usuário que escolha a operação desejada (+, -, *, /)\n",
    "4. Solicitar ao usuário que insira o segundo número (num2)\n",
    "5. Se a operação for '+', então:\n",
    "     6. Resultado = num1 + num2\n",
    "7. Senão, se a operação for '-', então:\n",
    "     8. Resultado = num1 - num2\n",
    "9. Senão, se a operação for '*', então:\n",
    "     10. Resultado = num1 * num2\n",
    "11. Senão, se a operação for '/', então:\n",
    "     12. Se num2 for igual a 0, mostrar \"Erro: Divisão por zero\"\n",
    "     13. Senão:\n",
    "          14. Resultado = num1 / num2\n",
    "15. Mostrar o resultado\n",
    "```\n",
    "\n",
    "\n",
    "### Código Python"
   ]
  },
  {
   "cell_type": "code",
   "execution_count": 16,
   "id": "c057234f",
   "metadata": {},
   "outputs": [
    {
     "name": "stdout",
     "output_type": "stream",
     "text": [
      "Informe o primeiro valor: 5\n"
     ]
    }
   ],
   "source": [
    "num1 = float(input('Informe o primeiro valor: '))"
   ]
  },
  {
   "cell_type": "code",
   "execution_count": 26,
   "id": "277a92ad",
   "metadata": {},
   "outputs": [
    {
     "name": "stdout",
     "output_type": "stream",
     "text": [
      "Informe a operação (+, -, *, /): /\n"
     ]
    }
   ],
   "source": [
    "operacao = input('Informe a operação (+, -, *, /): ')"
   ]
  },
  {
   "cell_type": "code",
   "execution_count": 18,
   "id": "d886e6f7",
   "metadata": {},
   "outputs": [
    {
     "name": "stdout",
     "output_type": "stream",
     "text": [
      "Informe o segundo valor: 5\n"
     ]
    }
   ],
   "source": [
    "num2 = float(input('Informe o segundo valor: '))"
   ]
  },
  {
   "cell_type": "code",
   "execution_count": 27,
   "id": "f26813c8",
   "metadata": {},
   "outputs": [
    {
     "name": "stdout",
     "output_type": "stream",
     "text": [
      "5.0 / 5.0 = 1.0\n"
     ]
    }
   ],
   "source": [
    "resultado = False\n",
    "\n",
    "if operacao == '+':\n",
    "    resultado = num1 + num2\n",
    "    \n",
    "elif operacao == '-':\n",
    "    resultado = num1 - num2\n",
    "    \n",
    "elif operacao == '*':\n",
    "    resultado = num1 * num2\n",
    "    \n",
    "elif operacao == '/':\n",
    "    if num2 == 0:\n",
    "        print('Erro: Divisão por zero')\n",
    "    else:\n",
    "        resultado = num1 / num2\n",
    "\n",
    "else:\n",
    "    print('Operação Inválida')\n",
    "    \n",
    "if type(resultado) != False:\n",
    "    print(f'{num1} {operacao} {num2} = {resultado}')"
   ]
  }
 ],
 "metadata": {
  "kernelspec": {
   "display_name": "Python 3 (ipykernel)",
   "language": "python",
   "name": "python3"
  },
  "language_info": {
   "codemirror_mode": {
    "name": "ipython",
    "version": 3
   },
   "file_extension": ".py",
   "mimetype": "text/x-python",
   "name": "python",
   "nbconvert_exporter": "python",
   "pygments_lexer": "ipython3",
   "version": "3.11.4"
  }
 },
 "nbformat": 4,
 "nbformat_minor": 5
}
