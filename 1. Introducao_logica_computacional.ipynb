{
 "cells": [
  {
   "cell_type": "markdown",
   "id": "279eb91c",
   "metadata": {},
   "source": [
    "# Introdução à lógica computacional\n",
    "\n",
    "## Calculadora\n",
    "* Desafio: Gerar uma calculadora que realize as 4 operações básicas\n",
    "\n",
    "### Pseudocódigo\n",
    "\n",
    "```\n",
    "1. Iniciar a calculadora\n",
    "2. Solicitar ao usuário que insira o primeiro número (num1)\n",
    "3. Solicitar ao usuário que escolha a operação desejada (+, -, *, /)\n",
    "4. Solicitar ao usuário que insira o segundo número (num2)\n",
    "5. Se a operação for '+', então:\n",
    "     6. Resultado = num1 + num2\n",
    "7. Senão, se a operação for '-', então:\n",
    "     8. Resultado = num1 - num2\n",
    "9. Senão, se a operação for '*', então:\n",
    "     10. Resultado = num1 * num2\n",
    "11. Senão, se a operação for '/', então:\n",
    "     12. Se num2 for igual a 0, mostrar \"Erro: Divisão por zero\"\n",
    "     13. Senão:\n",
    "          14. Resultado = num1 / num2\n",
    "15. Mostrar o resultado\n",
    "```\n",
    "\n",
    "\n",
    "### Código Python"
   ]
  },
  {
   "cell_type": "code",
   "execution_count": 16,
   "id": "c057234f",
   "metadata": {},
   "outputs": [
    {
     "name": "stdout",
     "output_type": "stream",
     "text": [
      "Informe o primeiro valor: 5\n"
     ]
    }
   ],
   "source": [
    "num1 = float(input('Informe o primeiro valor: '))"
   ]
  },
  {
   "cell_type": "code",
   "execution_count": 26,
   "id": "277a92ad",
   "metadata": {},
   "outputs": [
    {
     "name": "stdout",
     "output_type": "stream",
     "text": [
      "Informe a operação (+, -, *, /): /\n"
     ]
    }
   ],
   "source": [
    "operacao = input('Informe a operação (+, -, *, /): ')"
   ]
  },
  {
   "cell_type": "code",
   "execution_count": 18,
   "id": "d886e6f7",
   "metadata": {},
   "outputs": [
    {
     "name": "stdout",
     "output_type": "stream",
     "text": [
      "Informe o segundo valor: 5\n"
     ]
    }
   ],
   "source": [
    "num2 = float(input('Informe o segundo valor: '))"
   ]
  },
  {
   "cell_type": "code",
   "execution_count": 27,
   "id": "f26813c8",
   "metadata": {},
   "outputs": [
    {
     "name": "stdout",
     "output_type": "stream",
     "text": [
      "5.0 / 5.0 = 1.0\n"
     ]
    }
   ],
   "source": [
    "resultado = False\n",
    "\n",
    "if operacao == '+':\n",
    "    resultado = num1 + num2\n",
    "    \n",
    "elif operacao == '-':\n",
    "    resultado = num1 - num2\n",
    "    \n",
    "elif operacao == '*':\n",
    "    resultado = num1 * num2\n",
    "    \n",
    "elif operacao == '/':\n",
    "    if num2 == 0:\n",
    "        print('Erro: Divisão por zero')\n",
    "    else:\n",
    "        resultado = num1 / num2\n",
    "\n",
    "else:\n",
    "    print('Operação Inválida')\n",
    "    \n",
    "if type(resultado) != False:\n",
    "    print(f'{num1} {operacao} {num2} = {resultado}')"
   ]
  },
  {
   "cell_type": "markdown",
   "id": "7b7e4744",
   "metadata": {},
   "source": [
    "## Bubble Sort\n",
    "**Buble Sort** é um algoritmo de ordenação simples que funciona comparando cada elemento com o próximo, e trocando-os de lugar se eles estiverem em ordem incorreta. O algoritmo repete esse processo várias vezes, até que todos os elementos estejam ordenados. A cada passagem, o maior elemento \"flutua\" para o final do array, como uma bolha, dando origem ao nome do algoritmo.\n",
    "\n",
    "### Pseudocódigo\n",
    "1. Iniciar um array de números\n",
    "2. Percorrer todo array e verificar se o item atual é maior que o próximo item\n",
    "3. Se o item atual for maior que o próximo item, o item atual deve ser colocado na última posição e removida da posição anterior\n",
    "\n",
    "### Código Python"
   ]
  },
  {
   "cell_type": "code",
   "execution_count": 18,
   "id": "d038b1d3",
   "metadata": {},
   "outputs": [],
   "source": [
    "lista = [1, 3, 19, 55, 24, 6, 1]"
   ]
  },
  {
   "cell_type": "code",
   "execution_count": 20,
   "id": "a4e05373",
   "metadata": {},
   "outputs": [
    {
     "name": "stdout",
     "output_type": "stream",
     "text": [
      "[1, 1, 3, 6, 19, 24, 55]\n"
     ]
    }
   ],
   "source": [
    "elementos_desordenados = True\n",
    "\n",
    "while elementos_desordenados:\n",
    "    elementos_desordenados = False\n",
    "    for i in range(len(lista)-1):\n",
    "        if lista[i] > lista[i+1]:\n",
    "            lista.append(lista[i])\n",
    "            lista.remove(lista[i])\n",
    "       \n",
    "    \n",
    "    for i in range(len(lista)-1):\n",
    "        if lista[i] > lista[i+1]:\n",
    "            elementos_desordenados = True\n",
    "        \n",
    "print(lista)"
   ]
  },
  {
   "cell_type": "markdown",
   "id": "b95f41c2",
   "metadata": {},
   "source": [
    "### Solução 2"
   ]
  },
  {
   "cell_type": "code",
   "execution_count": 2,
   "id": "1c1b06a8",
   "metadata": {},
   "outputs": [],
   "source": [
    "lista = [6, 7, 8, 3, 10, 19, 4, 1, 0, 61, 30, 16, 17, 81, 29, 34, 43, 21, 11, 39, 56, 67, 12]"
   ]
  },
  {
   "cell_type": "code",
   "execution_count": 3,
   "id": "70b41cba",
   "metadata": {},
   "outputs": [],
   "source": [
    "def bubble_sort(arr): #Função que recebe um argumento\n",
    "    n = len(arr)\n",
    "    \n",
    "    # Para cada elemento i do array\n",
    "    for i in range(n):\n",
    "        \n",
    "        # Para cada elemento j do array\n",
    "        for j in range(0, n - i - 1):\n",
    "            \n",
    "            if arr[j] > arr[j + 1]:\n",
    "                arr[j], arr[j + 1] = arr[j + 1], arr[j]\n",
    "                \n",
    "    return arr"
   ]
  },
  {
   "cell_type": "code",
   "execution_count": 4,
   "id": "63965f21",
   "metadata": {},
   "outputs": [
    {
     "name": "stdout",
     "output_type": "stream",
     "text": [
      "[0, 1, 3, 4, 6, 7, 8, 10, 11, 12, 16, 17, 19, 21, 29, 30, 34, 39, 43, 56, 61, 67, 81]\n"
     ]
    }
   ],
   "source": [
    "print(bubble_sort(lista))"
   ]
  }
 ],
 "metadata": {
  "kernelspec": {
   "display_name": "Python 3 (ipykernel)",
   "language": "python",
   "name": "python3"
  },
  "language_info": {
   "codemirror_mode": {
    "name": "ipython",
    "version": 3
   },
   "file_extension": ".py",
   "mimetype": "text/x-python",
   "name": "python",
   "nbconvert_exporter": "python",
   "pygments_lexer": "ipython3",
   "version": "3.11.4"
  }
 },
 "nbformat": 4,
 "nbformat_minor": 5
}
